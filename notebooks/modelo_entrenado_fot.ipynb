{
 "cells": [
  {
   "cell_type": "code",
   "execution_count": 7,
   "metadata": {},
   "outputs": [
    {
     "name": "stdout",
     "output_type": "stream",
     "text": [
      "[LightGBM] [Warning] min_data_in_leaf is set=20, min_child_samples=20 will be ignored. Current value: min_data_in_leaf=20\n"
     ]
    },
    {
     "data": {
      "text/plain": [
       "['modelo_entrenado_fot.pkl']"
      ]
     },
     "execution_count": 7,
     "metadata": {},
     "output_type": "execute_result"
    }
   ],
   "source": [
    "import numpy as np\n",
    "import os\n",
    "import glob\n",
    "import pandas as pd \n",
    "from pandas import Series, DataFrame\n",
    "import lightgbm as lgb\n",
    "from lightgbm import LGBMRegressor\n",
    "from sklearn.model_selection import GridSearchCV\n",
    "from sklearn.model_selection import KFold, cross_val_score, train_test_split\n",
    "\n",
    "import joblib \n",
    "\n",
    "#os.chdir(os.path.dirname(__file__))\n",
    "os.chdir(\"C:\\\\src\\\\model\\\\\") \n",
    "df_Fifa = pd.read_csv(\"C:\\\\src\\\\processed\\\\my_model_FOT.csv\")\n",
    "\n",
    "train=df_Fifa\n",
    "X = train.drop(['Overall'], axis=1)\n",
    "y = train['Overall'].copy()\n",
    "X.shape\n",
    "X_train, X_test, y_train, y_test = train_test_split(X, y, test_size = 0.20, random_state = 42)\n",
    "\n",
    "hyper_parametros_lightgbm = {'num_leaves': [50,100],\n",
    "    'max_depth': [5,10],\n",
    "    'min_data_in_leaf': [20,100]}\n",
    "grid=GridSearchCV(estimator=LGBMRegressor(),\n",
    "param_grid=hyper_parametros_lightgbm,n_jobs=-1,scoring='neg_mean_absolute_error')\n",
    "\n",
    "lightgbm = grid.fit(X_train,y_train)\n",
    "prediction_lightgbm = lightgbm.predict(X_test)\n",
    "\n",
    "joblib.dump(lightgbm, 'modelo_entrenado_fot.pkl') # Guardo el modelo.\n"
   ]
  }
 ],
 "metadata": {
  "kernelspec": {
   "display_name": "Python 3.9.12 ('THEBRIGDE')",
   "language": "python",
   "name": "python3"
  },
  "language_info": {
   "codemirror_mode": {
    "name": "ipython",
    "version": 3
   },
   "file_extension": ".py",
   "mimetype": "text/x-python",
   "name": "python",
   "nbconvert_exporter": "python",
   "pygments_lexer": "ipython3",
   "version": "3.9.12"
  },
  "orig_nbformat": 4,
  "vscode": {
   "interpreter": {
    "hash": "0f196e5f2f3a212f7920c801adccfc0326aa5cdec2897d41053744625f1758e8"
   }
  }
 },
 "nbformat": 4,
 "nbformat_minor": 2
}
